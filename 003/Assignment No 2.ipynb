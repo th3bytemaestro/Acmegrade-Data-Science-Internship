{
 "cells": [
  {
   "cell_type": "markdown",
   "id": "0e721368",
   "metadata": {},
   "source": [
    "#### 1. Write a Python program to count the number 4 in a given list.  "
   ]
  },
  {
   "cell_type": "code",
   "execution_count": 16,
   "id": "95830e57",
   "metadata": {},
   "outputs": [
    {
     "name": "stdout",
     "output_type": "stream",
     "text": [
      "2\n"
     ]
    }
   ],
   "source": [
    "list=[1,4,2,4,3]\n",
    "def count_4(numbers):\n",
    "    count=0\n",
    "    for number in numbers:\n",
    "        if number==4:\n",
    "            count+=1\n",
    "    return count\n",
    "print(count_4(list))"
   ]
  },
  {
   "cell_type": "markdown",
   "id": "96871b9e",
   "metadata": {},
   "source": [
    "#### 2. Write a Python program to test whether a passed letter is a vowel or not."
   ]
  },
  {
   "cell_type": "code",
   "execution_count": 14,
   "id": "e5204d21",
   "metadata": {},
   "outputs": [
    {
     "name": "stdout",
     "output_type": "stream",
     "text": [
      "Enter a alphabet:a\n",
      "a is a vowel.\n"
     ]
    }
   ],
   "source": [
    "Alphabet = input(\"Enter a alphabet:\")\n",
    "def isvowel(Alphabet):\n",
    "    vowels=['a','e','i','o','u']\n",
    "    if Alphabet in vowels:\n",
    "        print(Alphabet, \"is a vowel.\")\n",
    "    else:\n",
    "        print(\"Not a vowel.\")\n",
    "\n",
    "isvowel(Alphabet)"
   ]
  },
  {
   "cell_type": "markdown",
   "id": "2303e5d1",
   "metadata": {},
   "source": [
    "#### 3. Write a Python program to check whether a specified value is contained in a group of values.  \n",
    "Test Data :\n",
    "3 -> [1, 5, 8, 3] : True\n",
    "-1 -> [1, 5, 8, 3] : False\n"
   ]
  },
  {
   "cell_type": "code",
   "execution_count": 18,
   "id": "e4b8489d",
   "metadata": {
    "scrolled": false
   },
   "outputs": [
    {
     "name": "stdout",
     "output_type": "stream",
     "text": [
      "enter a num 1\n",
      "True\n"
     ]
    }
   ],
   "source": [
    "n=int(input(\"enter a num \"))\n",
    "def checknum(n):\n",
    "    l1=[1,5,8,3]\n",
    "    for num in l1:\n",
    "        if n==num:\n",
    "            return True\n",
    "    return False\n",
    "print(checknum(n))"
   ]
  },
  {
   "cell_type": "markdown",
   "id": "dd1e864f",
   "metadata": {},
   "source": [
    "#### 4. Write a Python program to create a histogram from a given list of integers. \n"
   ]
  },
  {
   "cell_type": "code",
   "execution_count": 24,
   "id": "9e34f964",
   "metadata": {},
   "outputs": [
    {
     "name": "stdout",
     "output_type": "stream",
     "text": [
      "@@@\n",
      "@@@@@\n",
      "@@\n",
      "@@@@@@@@\n",
      "@@@@@@\n"
     ]
    }
   ],
   "source": [
    "integer_list = [3,5,2,8,6]\n",
    "def histogram(numbers):\n",
    "    for num in numbers:\n",
    "        print('@'*num)\n",
    "histogram(integer_list)"
   ]
  },
  {
   "cell_type": "markdown",
   "id": "816b8509",
   "metadata": {},
   "source": [
    "#### 5.Write a Python program to concatenate all elements in a list into a string and return it. "
   ]
  },
  {
   "cell_type": "code",
   "execution_count": 33,
   "id": "a4b40c01",
   "metadata": {},
   "outputs": [
    {
     "name": "stdout",
     "output_type": "stream",
     "text": [
      "23564\n"
     ]
    }
   ],
   "source": [
    "list=[2,3,5,6,4]\n",
    "def concatenate(list):\n",
    "    String=''\n",
    "    for element in list:\n",
    "        String+=str(element)\n",
    "    return String\n",
    "print(concatenate(list))"
   ]
  },
  {
   "cell_type": "markdown",
   "id": "29b66415",
   "metadata": {},
   "source": [
    "#### 6 Write a Python program that will accept the base and height of a triangle and compute the area."
   ]
  },
  {
   "cell_type": "code",
   "execution_count": 36,
   "id": "faeb4d44",
   "metadata": {},
   "outputs": [
    {
     "name": "stdout",
     "output_type": "stream",
     "text": [
      "Enter base of the triangle:5\n",
      "Enter height of the triangle:6\n",
      "Area of triangle is 15\n"
     ]
    }
   ],
   "source": [
    "base=int(input('Enter base of the triangle:'))\n",
    "height=int(input('Enter height of the triangle:'))\n",
    "area=1/2*base*height\n",
    "print(\"Area of triangle is\", int(area))"
   ]
  },
  {
   "cell_type": "markdown",
   "id": "612c501d",
   "metadata": {},
   "source": [
    "#### 7.Write a Python program to sum of three given integers. However, if two values are equal sum will be zero."
   ]
  },
  {
   "cell_type": "code",
   "execution_count": 40,
   "id": "d3d584bc",
   "metadata": {},
   "outputs": [
    {
     "name": "stdout",
     "output_type": "stream",
     "text": [
      "Enter num1:3\n",
      "Enter num2:2\n",
      "Enter num3:2\n",
      "0\n"
     ]
    }
   ],
   "source": [
    "x=int(input(\"Enter num1:\"))\n",
    "y=int(input(\"Enter num2:\"))\n",
    "z=int(input(\"Enter num3:\"))\n",
    "def sum3(x,y,z):\n",
    "    if x==y or y==z or z==x:\n",
    "        sum3=0\n",
    "    else:\n",
    "        sum3=x+y+z\n",
    "    return sum3\n",
    "print(sum3(x,y,z))"
   ]
  },
  {
   "cell_type": "markdown",
   "id": "08ee1a6f",
   "metadata": {},
   "source": [
    "#### 8. Write a Python program to sum of two given integers. However, if the sum is between 15 to 20 it will return 20.  "
   ]
  },
  {
   "cell_type": "code",
   "execution_count": 48,
   "id": "cae5d820",
   "metadata": {},
   "outputs": [
    {
     "name": "stdout",
     "output_type": "stream",
     "text": [
      "Enter num1:7\n",
      "Enter num2:8\n",
      "20\n"
     ]
    }
   ],
   "source": [
    "x=int(input(\"Enter num1:\"))\n",
    "y=int(input(\"Enter num2:\"))\n",
    "def sum2(x,y):\n",
    "    if x+y in range(15,20):\n",
    "        sum2=20\n",
    "    else:\n",
    "        sum2=x+y\n",
    "    return sum2\n",
    "print(sum2(x,y))"
   ]
  },
  {
   "cell_type": "markdown",
   "id": "9d6edbb9",
   "metadata": {},
   "source": [
    "#### 9. Write a Python program that will return true if the two given integer values are equal or their sum or difference is 5.  "
   ]
  },
  {
   "cell_type": "code",
   "execution_count": 55,
   "id": "9ea65d10",
   "metadata": {},
   "outputs": [
    {
     "name": "stdout",
     "output_type": "stream",
     "text": [
      "Enter num1:6\n",
      "Enter num2:5\n",
      "False\n"
     ]
    }
   ],
   "source": [
    "x=int(input(\"Enter num1:\"))\n",
    "y=int(input(\"Enter num2:\"))\n",
    "def num(x,y):\n",
    "    if x==y or x+y==5 or x-y==5:\n",
    "        return True\n",
    "    else:\n",
    "        return False\n",
    "print(num(x,y))"
   ]
  },
  {
   "cell_type": "markdown",
   "id": "0378dd8c",
   "metadata": {},
   "source": [
    "#### 10. Write a Python program to compute the distance between the points (x1, y1) and (x2, y2).  "
   ]
  },
  {
   "cell_type": "code",
   "execution_count": 73,
   "id": "5f2d1eec",
   "metadata": {},
   "outputs": [
    {
     "name": "stdout",
     "output_type": "stream",
     "text": [
      "Enter x1:5\n",
      "Enter y1:5\n",
      "Enter x2:9\n",
      "Enter y2:8\n",
      "Distance between [5, 5] and [9, 8] is 5.0\n"
     ]
    }
   ],
   "source": [
    "import math\n",
    "x1=int(input('Enter x1:'))\n",
    "y1=int(input('Enter y1:'))\n",
    "p1=[x1,y1]\n",
    "x2=int(input('Enter x2:'))\n",
    "y2=int(input('Enter y2:'))\n",
    "p2=[x2,y2]\n",
    "distance = math.sqrt( ((p1[0]-p2[0])**2)+((p1[1]-p2[1])**2) )\n",
    "\n",
    "print('Distance between',p1,'and',p2,'is',distance)"
   ]
  },
  {
   "cell_type": "code",
   "execution_count": null,
   "id": "3e255d83",
   "metadata": {},
   "outputs": [],
   "source": [
    "\n",
    "\n"
   ]
  },
  {
   "cell_type": "code",
   "execution_count": null,
   "id": "fdae28e1",
   "metadata": {},
   "outputs": [],
   "source": []
  }
 ],
 "metadata": {
  "kernelspec": {
   "display_name": "Python 3 (ipykernel)",
   "language": "python",
   "name": "python3"
  },
  "language_info": {
   "codemirror_mode": {
    "name": "ipython",
    "version": 3
   },
   "file_extension": ".py",
   "mimetype": "text/x-python",
   "name": "python",
   "nbconvert_exporter": "python",
   "pygments_lexer": "ipython3",
   "version": "3.11.4"
  }
 },
 "nbformat": 4,
 "nbformat_minor": 5
}
