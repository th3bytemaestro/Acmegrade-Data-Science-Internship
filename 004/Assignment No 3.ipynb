{
 "cells": [
  {
   "cell_type": "markdown",
   "id": "6f958648",
   "metadata": {},
   "source": [
    "#### 1. Write a Python program to sum all the items in a list."
   ]
  },
  {
   "cell_type": "code",
   "execution_count": 3,
   "id": "96d2ea65",
   "metadata": {},
   "outputs": [
    {
     "name": "stdout",
     "output_type": "stream",
     "text": [
      "Enter numbers separated by space2 1 1 1 1\n",
      "[2, 1, 1, 1, 1]\n",
      "6\n"
     ]
    }
   ],
   "source": [
    "def sumlist(list1):\n",
    "    sum=0\n",
    "    for x in list1:\n",
    "        sum+=x\n",
    "    return sum\n",
    "nums=input('Enter numbers separated by space:')\n",
    "list1=nums.split()\n",
    "list1=[int(num) for num in list1]\n",
    "print(list1)\n",
    "print(sumlist(list1))"
   ]
  },
  {
   "cell_type": "markdown",
   "id": "d3e2ab9c",
   "metadata": {},
   "source": [
    "#### 2. Write a Python program to multiplies all the items in a list "
   ]
  },
  {
   "cell_type": "code",
   "execution_count": 6,
   "id": "1c5508b8",
   "metadata": {},
   "outputs": [
    {
     "name": "stdout",
     "output_type": "stream",
     "text": [
      "Enter numbers separated by space:2 1 3\n",
      "[2, 1, 3]\n",
      "6\n"
     ]
    }
   ],
   "source": [
    "def mullist(list1):\n",
    "    mul=1\n",
    "    for x in list1:\n",
    "        mul*=x\n",
    "    return mul\n",
    "nums=input('Enter numbers separated by space:')\n",
    "list1=nums.split()\n",
    "list1=[int(num) for num in list1]\n",
    "print(list1)\n",
    "print(mullist(list1))"
   ]
  },
  {
   "cell_type": "markdown",
   "id": "9de16178",
   "metadata": {},
   "source": [
    "#### 3. Write a Python program to get the largest number from a list. "
   ]
  },
  {
   "cell_type": "code",
   "execution_count": 9,
   "id": "4aee0656",
   "metadata": {},
   "outputs": [
    {
     "name": "stdout",
     "output_type": "stream",
     "text": [
      "Enter numbers separated by space:2 3 5 8\n",
      "[2, 3, 5, 8]\n",
      "8\n"
     ]
    }
   ],
   "source": [
    "nums=input('Enter numbers separated by space:')\n",
    "list1=nums.split()\n",
    "list1=[int(num) for num in list1]\n",
    "print(list1)\n",
    "print(max(list1))"
   ]
  },
  {
   "cell_type": "markdown",
   "id": "a58b1fd3",
   "metadata": {},
   "source": [
    "#### 4. Write a Python program to get the smallest number from a list.\n"
   ]
  },
  {
   "cell_type": "code",
   "execution_count": 10,
   "id": "2aff33b6",
   "metadata": {
    "scrolled": true
   },
   "outputs": [
    {
     "name": "stdout",
     "output_type": "stream",
     "text": [
      "Enter numbers separated by space:2 5 6 1 9 8 7\n",
      "[2, 5, 6, 1, 9, 8, 7]\n",
      "1\n"
     ]
    }
   ],
   "source": [
    "nums=input('Enter numbers separated by space:')\n",
    "list1=nums.split()\n",
    "list1=[int(num) for num in list1]\n",
    "print(list1)\n",
    "print(min(list1))"
   ]
  },
  {
   "cell_type": "markdown",
   "id": "ce7b2ae4",
   "metadata": {},
   "source": [
    "#### 5. Write a Python program to count the number of strings where the string length is 2 or more and the first and last character are same from a given list of strings.  \n",
    "Sample List : ['abc', 'xyz', 'aba', '1221']\n",
    "Expected Result : 2\n"
   ]
  },
  {
   "cell_type": "code",
   "execution_count": 12,
   "id": "4c329dac",
   "metadata": {},
   "outputs": [
    {
     "name": "stdout",
     "output_type": "stream",
     "text": [
      "Enter strings separated by space:abc xyz aba 1221\n",
      "['abc', 'xyz', 'aba', '1221']\n",
      "2\n"
     ]
    }
   ],
   "source": [
    "def countstring(listS):\n",
    "    counter=0\n",
    "    for word in listS:\n",
    "        if len(word)>1 and word[0]==word[-1]:\n",
    "            counter=counter+1\n",
    "    return counter\n",
    "strings=input('Enter strings separated by space:')\n",
    "list1=strings.split()\n",
    "print(list1)\n",
    "print(countstring(list1))"
   ]
  },
  {
   "cell_type": "markdown",
   "id": "36bc3ce4",
   "metadata": {},
   "source": [
    "#### 6. Write a Python program to get a list, sorted in increasing order by the last element in each tuple from a given list of non-empty tuples.  \n",
    "Sample List : [(2, 5), (1, 2), (4, 4), (2, 3), (2, 1)]\n",
    "Expected Result : [(2, 1), (1, 2), (2, 3), (4, 4), (2, 5)]\n"
   ]
  },
  {
   "cell_type": "code",
   "execution_count": 17,
   "id": "6cc2af89",
   "metadata": {},
   "outputs": [
    {
     "name": "stdout",
     "output_type": "stream",
     "text": [
      "Enter number of tuples you want:5\n",
      "Enter space-separated integers: 2 5\n",
      "(2, 5)\n",
      "[(2, 5)]\n",
      "Enter space-separated integers: 1 2\n",
      "(1, 2)\n",
      "[(2, 5), (1, 2)]\n",
      "Enter space-separated integers: 4 4\n",
      "(4, 4)\n",
      "[(2, 5), (1, 2), (4, 4)]\n",
      "Enter space-separated integers: 2 3\n",
      "(2, 3)\n",
      "[(2, 5), (1, 2), (4, 4), (2, 3)]\n",
      "Enter space-separated integers: 2 1\n",
      "(2, 1)\n",
      "[(2, 5), (1, 2), (4, 4), (2, 3), (2, 1)]\n",
      "[(2, 1), (1, 2), (2, 3), (4, 4), (2, 5)]\n"
     ]
    }
   ],
   "source": [
    "x=int(input(\"Enter number of tuples you want:\"))\n",
    "tuple_list = []\n",
    "for i in range(x):\n",
    "    user_input = input('Enter space-separated integers: ')\n",
    "    my_tuple = tuple(int(item) for item in user_input.split())\n",
    "    tuple_list.append(my_tuple)\n",
    "    print(my_tuple)\n",
    "    print(tuple_list)\n",
    "def last(n): \n",
    "    return n[-1]\n",
    "def sort_list_last(tuple_list):\n",
    "    return sorted(tuple_list, key=last)\n",
    "print(sort_list_last(tuple_list))"
   ]
  },
  {
   "cell_type": "markdown",
   "id": "8dfcad28",
   "metadata": {},
   "source": [
    "#### 7. Write a Python program to remove duplicates from a list."
   ]
  },
  {
   "cell_type": "code",
   "execution_count": 14,
   "id": "8a145b62",
   "metadata": {},
   "outputs": [
    {
     "name": "stdout",
     "output_type": "stream",
     "text": [
      "Enter values separated by space:2 4 5 6 8 2 7 6\n",
      "['2', '4', '5', '6', '8', '2', '7', '6']\n",
      "['5', '8', '4', '2', '7', '6']\n"
     ]
    }
   ],
   "source": [
    "values=input('Enter values separated by space:')\n",
    "list1=values.split()\n",
    "print(list1)\n",
    "def remove_duplicates(list1):\n",
    "    unique_list = list(set(list1))\n",
    "    return unique_list\n",
    "print(remove_duplicates(list1))"
   ]
  },
  {
   "cell_type": "markdown",
   "id": "e11db6b6",
   "metadata": {},
   "source": [
    "#### 8. Write a Python program to check a list is empty or not. "
   ]
  },
  {
   "cell_type": "code",
   "execution_count": 17,
   "id": "e388bb36",
   "metadata": {},
   "outputs": [
    {
     "name": "stdout",
     "output_type": "stream",
     "text": [
      "Enter values separated by space:2 3 8 5\n",
      "['2', '3', '8', '5']\n",
      "List is not empty\n"
     ]
    }
   ],
   "source": [
    "values=input('Enter values separated by space:')\n",
    "list1=values.split()\n",
    "print(list1)\n",
    "if list1==[]:\n",
    "    print(\"List is empty\")\n",
    "else:\n",
    "    print(\"List is not empty\")"
   ]
  },
  {
   "cell_type": "markdown",
   "id": "8c07f649",
   "metadata": {},
   "source": [
    "#### 9. Write a Python program to clone or copy a list. "
   ]
  },
  {
   "cell_type": "code",
   "execution_count": 20,
   "id": "3693776f",
   "metadata": {},
   "outputs": [
    {
     "name": "stdout",
     "output_type": "stream",
     "text": [
      "Enter values separated by space:2 1 4 65 9 7\n",
      "['2', '1', '4', '65', '9', '7']\n",
      "['2', '1', '4', '65', '9', '7']\n",
      "Copied list: ['2', '1', '4', '65', '9', '7']\n"
     ]
    }
   ],
   "source": [
    "values=input('Enter values separated by space:')\n",
    "list1=values.split()\n",
    "print(list1)\n",
    "new_list = list(list1)\n",
    "print(list1)\n",
    "print(\"Copied list:\",list1)"
   ]
  },
  {
   "cell_type": "markdown",
   "id": "0dc5a7aa",
   "metadata": {},
   "source": [
    "#### 10. Write a Python program to find the list of words that are longer than n from a given list of words. "
   ]
  },
  {
   "cell_type": "code",
   "execution_count": 14,
   "id": "aad65e68",
   "metadata": {},
   "outputs": [
    {
     "name": "stdout",
     "output_type": "stream",
     "text": [
      "Enter strings separated by space:The quick brown fox jumps over the lazy dog\n",
      "['The', 'quick', 'brown', 'fox', 'jumps', 'over', 'the', 'lazy', 'dog']\n",
      "Enter value of n:3\n",
      "None\n",
      "['quick', 'brown', 'jumps', 'over', 'lazy']\n"
     ]
    }
   ],
   "source": [
    "strings=input('Enter strings separated by space:')\n",
    "wordlist=strings.split()\n",
    "list2=[]\n",
    "print(wordlist)\n",
    "n=int(input(\"Enter value of n:\"))\n",
    "def longthann(wordlist,n):\n",
    "    for word in wordlist:\n",
    "        if len(word) > n:\n",
    "            list2.append(word)\n",
    "print(longthann(wordlist,n))\n",
    "print(list2)"
   ]
  },
  {
   "cell_type": "markdown",
   "id": "cf8bd52b",
   "metadata": {},
   "source": [
    "#### 11.Write a Python function that takes two lists and returns True if they have at least one common member. "
   ]
  },
  {
   "cell_type": "code",
   "execution_count": 12,
   "id": "05579097",
   "metadata": {},
   "outputs": [
    {
     "name": "stdout",
     "output_type": "stream",
     "text": [
      "Enter first list separated by space:1 12 13 14 15\n",
      "['1', '12', '13', '14', '15']\n",
      "Enter second list separated by space:15 25 35 45 55\n",
      "['15', '25', '35', '45', '55']\n",
      "True\n"
     ]
    }
   ],
   "source": [
    "Num1=input(\"Enter first list separated by space:\")\n",
    "list1=Num1.split()\n",
    "print(list1)\n",
    "Num2=input(\"Enter second list separated by space:\")\n",
    "list2=Num2.split()\n",
    "print(list2)\n",
    "def commonmem(list1,list2):\n",
    "    for x in list1:\n",
    "        for y in list2:\n",
    "            if x==y:\n",
    "                return True\n",
    "    else:\n",
    "        return False\n",
    "print(commonmem(list1,list2))"
   ]
  },
  {
   "cell_type": "markdown",
   "id": "e5eb81f9",
   "metadata": {},
   "source": [
    "#### 12. Write a Python program to print a specified list after removing the 0th, 4th and 5th elements.  \n",
    "Sample List : ['Red', 'Green', 'White', 'Black', 'Pink', 'Yellow']\n",
    "Expected Output : ['Green', 'White', 'Black']\n"
   ]
  },
  {
   "cell_type": "code",
   "execution_count": 43,
   "id": "2555876f",
   "metadata": {},
   "outputs": [
    {
     "name": "stdout",
     "output_type": "stream",
     "text": [
      "Enter the index you want to remove separated by space:0 4 5\n",
      "['Green', 'White', 'Black']\n"
     ]
    }
   ],
   "source": [
    "color = ['Red', 'Green', 'White', 'Black', 'Pink', 'Yellow']\n",
    "indices=input(\"Enter the index you want to remove separated by space:\")\n",
    "indices_to_remove=[int(index) for index in indices.split()]\n",
    "color = [x for (i,x) in enumerate(color) if i not in indices_to_remove]\n",
    "print(color)"
   ]
  },
  {
   "cell_type": "code",
   "execution_count": null,
   "id": "c0a734a2",
   "metadata": {},
   "outputs": [],
   "source": []
  },
  {
   "cell_type": "code",
   "execution_count": null,
   "id": "57484e2f",
   "metadata": {},
   "outputs": [],
   "source": []
  },
  {
   "cell_type": "code",
   "execution_count": null,
   "id": "0c6386cc",
   "metadata": {},
   "outputs": [],
   "source": []
  },
  {
   "cell_type": "code",
   "execution_count": null,
   "id": "4a411f2d",
   "metadata": {},
   "outputs": [],
   "source": []
  }
 ],
 "metadata": {
  "kernelspec": {
   "display_name": "Python 3 (ipykernel)",
   "language": "python",
   "name": "python3"
  },
  "language_info": {
   "codemirror_mode": {
    "name": "ipython",
    "version": 3
   },
   "file_extension": ".py",
   "mimetype": "text/x-python",
   "name": "python",
   "nbconvert_exporter": "python",
   "pygments_lexer": "ipython3",
   "version": "3.11.4"
  }
 },
 "nbformat": 4,
 "nbformat_minor": 5
}
