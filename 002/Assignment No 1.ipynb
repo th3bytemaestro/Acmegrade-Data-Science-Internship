{
 "cells": [
  {
   "cell_type": "markdown",
   "id": "32f7f4b7",
   "metadata": {},
   "source": [
    "# Assignment No 1 "
   ]
  },
  {
   "cell_type": "markdown",
   "id": "5756168a",
   "metadata": {},
   "source": [
    "#### 1. Write a Python program to get the Python version you are using."
   ]
  },
  {
   "cell_type": "code",
   "execution_count": 23,
   "id": "5bf1a3d9",
   "metadata": {},
   "outputs": [
    {
     "name": "stdout",
     "output_type": "stream",
     "text": [
      "Python version\n",
      "3.11.4 | packaged by Anaconda, Inc. | (main, Jul  5 2023, 13:38:37) [MSC v.1916 64 bit (AMD64)]\n",
      "Version info.\n",
      "sys.version_info(major=3, minor=11, micro=4, releaselevel='final', serial=0)\n"
     ]
    }
   ],
   "source": [
    "import sys\n",
    "print(\"Python version\")\n",
    "print (sys.version)\n",
    "print(\"Version info.\")\n",
    "print (sys.version_info)"
   ]
  },
  {
   "cell_type": "markdown",
   "id": "b0c55890",
   "metadata": {},
   "source": [
    "#### 2. Write a Python program to display the current date and time."
   ]
  },
  {
   "cell_type": "code",
   "execution_count": 24,
   "id": "d7b73f5a",
   "metadata": {},
   "outputs": [
    {
     "name": "stdout",
     "output_type": "stream",
     "text": [
      "2024-01-10 11:18:10.849767\n"
     ]
    }
   ],
   "source": [
    "import datetime\n",
    "x = datetime.datetime.now()\n",
    "print(x)"
   ]
  },
  {
   "cell_type": "code",
   "execution_count": 25,
   "id": "16b5a168",
   "metadata": {},
   "outputs": [
    {
     "name": "stdout",
     "output_type": "stream",
     "text": [
      "Current date and time : \n",
      "2024-01-10 11:18:12\n"
     ]
    }
   ],
   "source": [
    "now = datetime.datetime.now()\n",
    "print (\"Current date and time : \")\n",
    "print (now.strftime(\"%Y-%m-%d %H:%M:%S\"))"
   ]
  },
  {
   "cell_type": "markdown",
   "id": "ed3e805c",
   "metadata": {},
   "source": [
    "#### 3. Write a Python program which accepts the radius of a circle from the user and compute the area.  "
   ]
  },
  {
   "cell_type": "code",
   "execution_count": 26,
   "id": "02235c14",
   "metadata": {},
   "outputs": [
    {
     "name": "stdout",
     "output_type": "stream",
     "text": [
      "Input the radius of the circle : 3\n",
      "The area of the circle with radius 3.0 is: 28.274333882308138\n"
     ]
    }
   ],
   "source": [
    "from math import pi\n",
    "r = float(input (\"Input the radius of the circle : \"))\n",
    "print (\"The area of the circle with radius \" + str(r) + \" is: \" + str(pi * r**2))"
   ]
  },
  {
   "cell_type": "markdown",
   "id": "780c3ca9",
   "metadata": {},
   "source": [
    "#### 4.Write a Python program which accepts the user's first and last name and print them in reverse order with a space between them "
   ]
  },
  {
   "cell_type": "code",
   "execution_count": 27,
   "id": "70197a2e",
   "metadata": {},
   "outputs": [
    {
     "name": "stdout",
     "output_type": "stream",
     "text": [
      "Input your First Name : Mayur\n",
      "Input your Last Name : Lamje\n",
      "Hello  Lamje Mayur\n"
     ]
    }
   ],
   "source": [
    "fname = input(\"Input your First Name : \")\n",
    "lname = input(\"Input your Last Name : \")\n",
    "print (\"Hello  \" + lname + \" \" + fname)"
   ]
  },
  {
   "cell_type": "markdown",
   "id": "a361cd6b",
   "metadata": {},
   "source": [
    "#### 5.Write a Python program which accepts a sequence of comma-separated numbers from user and generate a list and a tuple with those numbers"
   ]
  },
  {
   "cell_type": "code",
   "execution_count": 28,
   "id": "c8c885db",
   "metadata": {},
   "outputs": [
    {
     "name": "stdout",
     "output_type": "stream",
     "text": [
      "Input some comma separated numbers : 2,3,3,2,4,5,6\n",
      "List :  ['2', '3', '3', '2', '4', '5', '6']\n",
      "Tuple :  ('2', '3', '3', '2', '4', '5', '6')\n"
     ]
    }
   ],
   "source": [
    "numbers = input(\"Input some comma separated numbers : \")\n",
    "list1 = numbers.split(\",\")\n",
    "tuple1 = tuple(list1)\n",
    "print('List : ',list1)\n",
    "print ('Tuple : ',tuple1)"
   ]
  },
  {
   "cell_type": "markdown",
   "id": "25b29588",
   "metadata": {},
   "source": [
    "#### 6.Write a Python program to accept a filename from the user and print the extension of that."
   ]
  },
  {
   "cell_type": "code",
   "execution_count": 31,
   "id": "a33d12d4",
   "metadata": {},
   "outputs": [
    {
     "name": "stdout",
     "output_type": "stream",
     "text": [
      "Input the Filename: index.html\n",
      "The extension of the file is : 'html'\n"
     ]
    }
   ],
   "source": [
    "filename = input(\"Input the Filename: \")\n",
    "f_extns = filename.split(\".\")\n",
    "print (\"The extension of the file is : \" + repr(f_extns[-1]))"
   ]
  },
  {
   "cell_type": "markdown",
   "id": "3f1c713a",
   "metadata": {},
   "source": [
    "#### 7.Write a Python program to display the first and last colors from the following list."
   ]
  },
  {
   "cell_type": "code",
   "execution_count": 32,
   "id": "4134a730",
   "metadata": {},
   "outputs": [
    {
     "name": "stdout",
     "output_type": "stream",
     "text": [
      "('Red', 'Black')\n"
     ]
    }
   ],
   "source": [
    "color_list = [\"Red\",\"Green\",\"White\" ,\"Black\"]\n",
    "color_list = [\"Red\",\"Green\",\"White\" ,\"Black\"]\n",
    "print((color_list[0],color_list[-1]))"
   ]
  },
  {
   "cell_type": "markdown",
   "id": "c911ef31",
   "metadata": {},
   "source": [
    "#### 8.Write a Python program that accepts an integer (n) and computes the value of n+nn+nnn."
   ]
  },
  {
   "cell_type": "code",
   "execution_count": 33,
   "id": "9d329427",
   "metadata": {},
   "outputs": [
    {
     "name": "stdout",
     "output_type": "stream",
     "text": [
      "Input an integer : 3\n",
      "369\n"
     ]
    }
   ],
   "source": [
    "a = int(input(\"Input an integer : \"))\n",
    "n1 = int( \"%s\" % a )\n",
    "n2 = int( \"%s%s\" % (a,a) )\n",
    "n3 = int( \"%s%s%s\" % (a,a,a) )\n",
    "print (n1+n2+n3)"
   ]
  },
  {
   "cell_type": "markdown",
   "id": "50687a56",
   "metadata": {},
   "source": [
    "#### 9.Write a Python program to get the volume of a sphere with radius 6.\n",
    " "
   ]
  },
  {
   "cell_type": "code",
   "execution_count": 34,
   "id": "7285a2f2",
   "metadata": {},
   "outputs": [
    {
     "name": "stdout",
     "output_type": "stream",
     "text": [
      "The volume of the sphere is:  904.7786842338603\n"
     ]
    }
   ],
   "source": [
    "from math import pi\n",
    "r= 6.0\n",
    "V= 4.0/3.0*pi* r**3\n",
    "print('The volume of the sphere is: ',V)"
   ]
  },
  {
   "cell_type": "markdown",
   "id": "0f9c155c",
   "metadata": {},
   "source": [
    "#### 10. Write a Python program to convert seconds to day, hour, minutes and seconds. "
   ]
  },
  {
   "cell_type": "code",
   "execution_count": 35,
   "id": "ddeed4aa",
   "metadata": {},
   "outputs": [
    {
     "name": "stdout",
     "output_type": "stream",
     "text": [
      "Input time in seconds: 60\n",
      "d:h:m:s-> 0 days :0 hours:1 minutes:0 seconds\n"
     ]
    }
   ],
   "source": [
    "time = float(input(\"Input time in seconds: \"))\n",
    "day = time // (24 * 3600)\n",
    "time = time % (24 * 3600)\n",
    "hour = time // 3600\n",
    "time %= 3600\n",
    "minutes = time // 60\n",
    "time %= 60\n",
    "seconds = time\n",
    "print(\"d:h:m:s-> %d days :%d hours:%d minutes:%d seconds\" % (day, hour, minutes, seconds))"
   ]
  },
  {
   "cell_type": "code",
   "execution_count": null,
   "id": "9a742ce9",
   "metadata": {},
   "outputs": [],
   "source": []
  }
 ],
 "metadata": {
  "kernelspec": {
   "display_name": "Python 3 (ipykernel)",
   "language": "python",
   "name": "python3"
  },
  "language_info": {
   "codemirror_mode": {
    "name": "ipython",
    "version": 3
   },
   "file_extension": ".py",
   "mimetype": "text/x-python",
   "name": "python",
   "nbconvert_exporter": "python",
   "pygments_lexer": "ipython3",
   "version": "3.11.4"
  }
 },
 "nbformat": 4,
 "nbformat_minor": 5
}
