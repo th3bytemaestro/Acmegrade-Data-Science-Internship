{
 "cells": [
  {
   "cell_type": "markdown",
   "id": "ba06d177",
   "metadata": {},
   "source": [
    "#### 1.Write a program which will find factors of given number and find whether the factor is even or odd.\n",
    "\n",
    " "
   ]
  },
  {
   "cell_type": "code",
   "execution_count": 23,
   "id": "39ad761e",
   "metadata": {},
   "outputs": [
    {
     "name": "stdout",
     "output_type": "stream",
     "text": [
      "Enter a number:10\n",
      "1 is an odd factor.\n",
      "2 is an even factor.\n",
      "10 is not completely divisible by 3\n",
      "10 is not completely divisible by 4\n",
      "5 is an odd factor.\n",
      "10 is not completely divisible by 6\n",
      "10 is not completely divisible by 7\n",
      "10 is not completely divisible by 8\n",
      "10 is not completely divisible by 9\n",
      "10 is an even factor.\n"
     ]
    }
   ],
   "source": [
    "number=int(input(\"Enter a number:\"))\n",
    "for i in range(1,number+1):\n",
    "    remainder = number%i\n",
    "    if (remainder==0):\n",
    "        if(i%2==0):\n",
    "            print(i,\"is an even factor.\")\n",
    "        else:\n",
    "            print(i,\"is an odd factor.\")\n",
    "    else:\n",
    "        print(number,\"is not completely divisible by\",i)\n",
    "    "
   ]
  },
  {
   "cell_type": "markdown",
   "id": "e873d2c2",
   "metadata": {},
   "source": [
    "#### 2.Write a code which accepts a sequence of words as input and prints the words in a sequence after sorting them alphabetically.\n",
    " "
   ]
  },
  {
   "cell_type": "code",
   "execution_count": 36,
   "id": "b05d40f8",
   "metadata": {},
   "outputs": [
    {
     "name": "stdout",
     "output_type": "stream",
     "text": [
      "Enter your string:My name is Mayur\n",
      "['My', 'name', 'is', 'Mayur']\n",
      "Following is the sorted list \n",
      " ['Mayur', 'My', 'is', 'name']\n"
     ]
    }
   ],
   "source": [
    "sequence = input(\"Enter your string:\")\n",
    "words = sequence.split()\n",
    "print(words)\n",
    "words.sort()\n",
    "print(\"Following is the sorted list \\n\", words)"
   ]
  },
  {
   "cell_type": "markdown",
   "id": "113380d6",
   "metadata": {},
   "source": [
    "#### 3.Write a program, which will find all the numbers between 1000 and 3000 (both included) such that each digit of a number is an even number. The numbers obtained should be printed in a comma separated sequence on a single line.\n",
    " "
   ]
  },
  {
   "cell_type": "code",
   "execution_count": 4,
   "id": "44c11bb0",
   "metadata": {},
   "outputs": [
    {
     "name": "stdout",
     "output_type": "stream",
     "text": [
      "2000,2002,2004,2006,2008,2020,2022,2024,2026,2028,2040,2042,2044,2046,2048,2060,2062,2064,2066,2068,2080,2082,2084,2086,2088,2200,2202,2204,2206,2208,2220,2222,2224,2226,2228,2240,2242,2244,2246,2248,2260,2262,2264,2266,2268,2280,2282,2284,2286,2288,2400,2402,2404,2406,2408,2420,2422,2424,2426,2428,2440,2442,2444,2446,2448,2460,2462,2464,2466,2468,2480,2482,2484,2486,2488,2600,2602,2604,2606,2608,2620,2622,2624,2626,2628,2640,2642,2644,2646,2648,2660,2662,2664,2666,2668,2680,2682,2684,2686,2688,2800,2802,2804,2806,2808,2820,2822,2824,2826,2828,2840,2842,2844,2846,2848,2860,2862,2864,2866,2868,2880,2882,2884,2886,2888\n"
     ]
    }
   ],
   "source": [
    "Numbers = []\n",
    "for i in range(1000,3001):\n",
    "    str_cnvt = str(i)\n",
    "    if (int(str_cnvt[0])%2==0) and (int(str_cnvt[1])%2==0) and (int(str_cnvt[2])%2==0) and (int(str_cnvt[3])%2==0):\n",
    "        Numbers.append(str_cnvt)\n",
    "print (\",\".join(Numbers))"
   ]
  },
  {
   "cell_type": "markdown",
   "id": "c03384ca",
   "metadata": {},
   "source": [
    "#### 4.Write a program that accepts a sentence and calculate the number of letters and digits.\n",
    " "
   ]
  },
  {
   "cell_type": "code",
   "execution_count": 2,
   "id": "c3b7d068",
   "metadata": {},
   "outputs": [
    {
     "name": "stdout",
     "output_type": "stream",
     "text": [
      "Enter a sentence:I am 20 years old.\n",
      "There are 11 letters in the sentence\n",
      "There are 2 digits in the sentence\n"
     ]
    }
   ],
   "source": [
    "sentence = input(\"Enter a sentence:\")\n",
    "Digits = 0\n",
    "Letters = 0\n",
    "for i in sentence:\n",
    "    if i.isdigit():\n",
    "        Digits+=1\n",
    "    elif i.isalpha():\n",
    "        Letters+=1\n",
    "    else:\n",
    "        pass\n",
    "print(\"There are\",Letters, \"letters in the sentence\")\n",
    "print(\"There are\",Digits, \"digits in the sentence\")"
   ]
  },
  {
   "cell_type": "markdown",
   "id": "636ebd0a",
   "metadata": {},
   "source": [
    "#### 5.Design a code which will find the given string is Palindrome string or not. "
   ]
  },
  {
   "cell_type": "code",
   "execution_count": 12,
   "id": "2e6c6a29",
   "metadata": {},
   "outputs": [
    {
     "name": "stdout",
     "output_type": "stream",
     "text": [
      "Enter string:tacocat\n",
      "It is a palindrome string.\n"
     ]
    }
   ],
   "source": [
    "String = input(\"Enter string:\")\n",
    "String = String.casefold()\n",
    "Reverse_string = reversed(String)\n",
    "if list(String) == list(Reverse_string):\n",
    "   print(\"It is a palindrome string.\")\n",
    "else:\n",
    "   print(\"It is not palindrome\")"
   ]
  },
  {
   "cell_type": "code",
   "execution_count": null,
   "id": "aba527e3",
   "metadata": {},
   "outputs": [],
   "source": []
  },
  {
   "cell_type": "code",
   "execution_count": null,
   "id": "081c6e5a",
   "metadata": {},
   "outputs": [],
   "source": []
  },
  {
   "cell_type": "code",
   "execution_count": null,
   "id": "11af6fd3",
   "metadata": {},
   "outputs": [],
   "source": []
  }
 ],
 "metadata": {
  "kernelspec": {
   "display_name": "Python 3 (ipykernel)",
   "language": "python",
   "name": "python3"
  },
  "language_info": {
   "codemirror_mode": {
    "name": "ipython",
    "version": 3
   },
   "file_extension": ".py",
   "mimetype": "text/x-python",
   "name": "python",
   "nbconvert_exporter": "python",
   "pygments_lexer": "ipython3",
   "version": "3.11.4"
  }
 },
 "nbformat": 4,
 "nbformat_minor": 5
}
